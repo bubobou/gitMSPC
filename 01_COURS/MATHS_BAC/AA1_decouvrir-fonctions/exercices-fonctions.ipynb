{
 "cells": [
  {
   "cell_type": "markdown",
   "metadata": {},
   "source": [
    "# Exercice 1\n",
    "\n",
    "1. Compléter ci-dessous le code de la fonction qui reçoit un nombre et retourne ce nombre multiplié par 1,5 (attention **1,5** en python s'écrit **1.5**).\n",
    "\n",
    "2. Calculer l'image de 4 par cette fonction."
   ]
  },
  {
   "cell_type": "markdown",
   "metadata": {},
   "source": [
    "def f():\n",
    "    return\n",
    "\n"
   ]
  },
  {
   "cell_type": "markdown",
   "metadata": {},
   "source": [
    "## Exercice 2\n",
    "\n",
    "1. Écrire ci-dessous le code de la fonction définie par $g(x) = \\frac{(8 × x -5)}{10}$\n",
    "\n",
    "2. Compléter le tableau de valeur ci-dessous :\n",
    "\n",
    "|$x$   |-1 |???| 5 |10,2|\n",
    "|---   |---|---|---|---|\n",
    "|$g(x)$|???|0,5|???|???|"
   ]
  },
  {
   "cell_type": "code",
   "execution_count": null,
   "metadata": {},
   "outputs": [],
   "source": []
  },
  {
   "cell_type": "markdown",
   "metadata": {},
   "source": []
  }
 ],
 "metadata": {
  "language_info": {
   "name": "python"
  },
  "orig_nbformat": 4
 },
 "nbformat": 4,
 "nbformat_minor": 2
}
