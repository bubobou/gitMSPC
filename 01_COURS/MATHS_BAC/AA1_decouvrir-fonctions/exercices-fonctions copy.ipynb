{
 "cells": [
  {
   "cell_type": "markdown",
   "metadata": {},
   "source": [
    "# Exercice 1\n",
    "\n",
    "1. Compléter ci-dessous le code de la fonction $f$ qui reçoit un nombre et retourne ce nombre multiplié par 1,5 (attention **1,5** en python s'écrit **1.5**).\n"
   ]
  },
  {
   "cell_type": "code",
   "execution_count": null,
   "metadata": {},
   "outputs": [],
   "source": [
    "def f(x):\n",
    "    return\n",
    "\n"
   ]
  },
  {
   "cell_type": "markdown",
   "metadata": {},
   "source": [
    "2. Calculer l'image de 4 par cette fonction."
   ]
  },
  {
   "cell_type": "code",
   "execution_count": null,
   "metadata": {},
   "outputs": [],
   "source": [
    "f()"
   ]
  },
  {
   "cell_type": "markdown",
   "metadata": {},
   "source": [
    "2. Calculer l'image de 0 par cette fonction."
   ]
  },
  {
   "cell_type": "markdown",
   "metadata": {},
   "source": [
    "3. Compléter le tableau de valeurs ci-dessous :\n",
    "\n",
    "\n",
    "|$x$   |-1 | 0 | 4 |\n",
    "|---   |---|---|---|\n",
    "|$g(x)$| ? | ? | ? |"
   ]
  },
  {
   "cell_type": "markdown",
   "metadata": {},
   "source": [
    "## Exercice 2\n",
    "\n",
    "1. Écrire ci-dessous le code de la fonction définie par $g(x) = \\dfrac{(8 × x -5)}{10}$\n"
   ]
  },
  {
   "cell_type": "code",
   "execution_count": null,
   "metadata": {},
   "outputs": [],
   "source": []
  },
  {
   "cell_type": "markdown",
   "metadata": {},
   "source": [
    "\n",
    "2. Compléter le tableau de valeur ci-dessous :\n",
    "\n",
    "|$x$   |-1 | ? | 5 |10,2|\n",
    "|---   |---|---|---|---|\n",
    "|$g(x)$| ? |0,5| ? | ? |"
   ]
  }
 ],
 "metadata": {
  "language_info": {
   "name": "python"
  },
  "orig_nbformat": 4
 },
 "nbformat": 4,
 "nbformat_minor": 2
}
