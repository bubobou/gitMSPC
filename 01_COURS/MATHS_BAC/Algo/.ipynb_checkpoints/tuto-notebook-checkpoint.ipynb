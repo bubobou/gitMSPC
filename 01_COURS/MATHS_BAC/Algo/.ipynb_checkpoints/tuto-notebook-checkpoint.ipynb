{
 "cells": [
  {
   "cell_type": "markdown",
   "metadata": {},
   "source": [
    "# Découvrir le notebook python\n",
    "\n",
    "Dans ce notebook vous allez apprendre à vous servir d'un notebook..."
   ]
  },
  {
   "cell_type": "markdown",
   "metadata": {},
   "source": [
    "## Qu'est-ce que c'est un **notebook** ?\n",
    "\n",
    "C'est une page web interactive qui peut contenir du texte, des images, des vidéos... mais qui permet en plus d'écrire, de modifier et d'éxécuter du code.\n",
    "\n",
    "![](https://media.giphy.com/media/ULR7kNP2lhJXW/giphy.gif)\n",
    "\n",
    "$\\color{lightblue}{\\text{La mise en page est basique, pour ne pas vous distraire...}}$"
   ]
  },
  {
   "cell_type": "markdown",
   "metadata": {},
   "source": [
    "## Quel est l'intérêt d'un **notebook**?\n",
    "\n",
    "D'abord c'est un outil qui me permet de vous donner des consignes de travail, des exemples de programmes.\n",
    "\n",
    "Ensuite c'est un outil interactif, puisque vous pouvez en modifier le contenu :\n",
    " - vous pouvez ainsi répondre à des questions.\n",
    " - vous pouvez écrire du code et le tester.\n",
    "\n",
    "Enfin la plateforme que j'utilise (*Capytale*) permet de récupérer et d'évaluer le travail des élèves."
   ]
  },
  {
   "cell_type": "markdown",
   "metadata": {},
   "source": [
    "## Comment ça marche ?\n",
    "\n",
    "Voici quelques tutoriels pour découvrir les fonctionnalités essentielles."
   ]
  },
  {
   "cell_type": "markdown",
   "metadata": {},
   "source": [
    "### Les cellules"
   ]
  },
  {
   "cell_type": "markdown",
   "metadata": {},
   "source": [
    "![code-ou-texte](notebook-cellule.gif)"
   ]
  },
  {
   "cell_type": "markdown",
   "metadata": {},
   "source": [
    "Quelques trucs à savoir ...\n",
    "\n",
    "Double-clic pour modifier une cellule (essayer dans celle-ci pour voir son \"code\").\n",
    "\n",
    "Sauter une ligne pour un retour à la ligne\n",
    "\n",
    "*italique*\n",
    "\n",
    "**gras**\n",
    "\n",
    "# titre\n",
    "\n",
    "## titre aussi (mais plus petit...)\n",
    "\n",
    "> Commentaire \n",
    "\n",
    "et surtout : \n",
    "\n",
    " - Ctrl+Entrée pour valider\n",
    " - Maj+Entrée ou bouton \"Exécuter\" pour valider et passer à la cellule suivante."
   ]
  },
  {
   "cell_type": "markdown",
   "metadata": {},
   "source": [
    "À vous de jouer..."
   ]
  }
 ],
 "metadata": {
  "kernelspec": {
   "display_name": "Python 3",
   "language": "python",
   "name": "python3"
  },
  "language_info": {
   "codemirror_mode": {
    "name": "ipython",
    "version": 3
   },
   "file_extension": ".py",
   "mimetype": "text/x-python",
   "name": "python",
   "nbconvert_exporter": "python",
   "pygments_lexer": "ipython3",
   "version": "3.9.2"
  }
 },
 "nbformat": 4,
 "nbformat_minor": 2
}
