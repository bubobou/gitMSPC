{
 "cells": [
  {
   "cell_type": "markdown",
   "source": [
    "# Découvrir le notebook python\n",
    "\n",
    "Dans ce notebook vous allez apprendre à vous servir d'un notebook..."
   ],
   "metadata": {}
  },
  {
   "cell_type": "markdown",
   "source": [
    "## 1. Qu'est-ce que c'est un **notebook** ?\n",
    "\n",
    "C'est une page web interactive qui peut contenir du texte, des images, des vidéos... mais qui permet en plus d'écrire, de modifier et d'éxécuter du code.\n",
    "\n",
    "![](https://media.giphy.com/media/ULR7kNP2lhJXW/giphy.gif)\n",
    "\n",
    "$\\color{lightblue}{\\text{La mise en page est basique, pour ne pas vous distraire...}}$"
   ],
   "metadata": {}
  },
  {
   "cell_type": "markdown",
   "source": [
    "## 2. Quel est l'intérêt d'un **notebook**?\n",
    "\n",
    "D'abord c'est un outil qui me permet de vous donner des consignes de travail, des exemples de programmes.\n",
    "\n",
    "Ensuite c'est un outil interactif, puisque vous pouvez en modifier le contenu :\n",
    " - vous pouvez ainsi répondre à des questions.\n",
    " - vous pouvez écrire du code et le tester.\n",
    "\n",
    "Enfin la plateforme que j'utilise (*Capytale*) permet de récupérer et d'évaluer le travail des élèves."
   ],
   "metadata": {}
  },
  {
   "cell_type": "markdown",
   "source": [
    "## 3. Comment ça marche ?\n",
    "\n",
    "Voici quelques tutoriels pour découvrir les fonctionnalités essentielles."
   ],
   "metadata": {}
  },
  {
   "cell_type": "markdown",
   "source": [
    "### Les cellules : ajouter et déplacer"
   ],
   "metadata": {}
  },
  {
   "cell_type": "markdown",
   "source": [
    "![code-ou-texte](notebook-cellule.gif)"
   ],
   "metadata": {}
  },
  {
   "cell_type": "markdown",
   "source": [
    "### Cellule de texte : quelques trucs à savoir ...\n",
    "\n",
    "Double-clic pour modifier une cellule (essayer dans celle-ci pour voir son \"code\").\n",
    "\n",
    "Sauter une ligne pour un retour à la ligne\n",
    "\n",
    "*italique*\n",
    "\n",
    "**gras**\n",
    "\n",
    "# titre\n",
    "\n",
    "## titre aussi (mais plus petit...)\n",
    "\n",
    "> Commentaire : pour supprimer une cellule \"Edition\"->\"Supprimer les cellules\", ou double \"d\"\n",
    "\n",
    "et surtout : \n",
    "\n",
    " - Ctrl+Entrée pour valider\n",
    " - Maj+Entrée ou bouton \"Exécuter\" pour valider et passer à la cellule suivante."
   ],
   "metadata": {}
  },
  {
   "cell_type": "markdown",
   "source": [
    "### À vous de jouer...\n",
    "\n",
    "![](https://media.giphy.com/media/l3vR2SwA3hfH4NtVC/giphy.gif)"
   ],
   "metadata": {}
  },
  {
   "cell_type": "markdown",
   "source": [
    "Écrire quelque chose dans cette cellule"
   ],
   "metadata": {}
  },
  {
   "cell_type": "markdown",
   "source": [
    "## Cellule de code : python inside"
   ],
   "metadata": {}
  },
  {
   "cell_type": "code",
   "execution_count": null,
   "source": [
    "# un dièse (AltGr+3) sert à écrire du commentaire qui ne sera pas lu par le programme\n",
    "# Consigne : exécuter cette cellule\n",
    "a=2\n",
    "b=3\n",
    "c=a+b\n",
    "c"
   ],
   "outputs": [],
   "metadata": {}
  },
  {
   "cell_type": "markdown",
   "source": [
    "**Consignes** : \n",
    " - dans la cellule de code précédente, modifier la valeur de *a* puis exécuter-la de nouveau.\n",
    " - dans la cellule de code précédente, remplacer l'opérateur **+** par **/** (et exécuter...)\n",
    "  "
   ],
   "metadata": {}
  },
  {
   "cell_type": "markdown",
   "source": [
    "### Sauvegarder / Rendre un travail\n",
    "\n",
    " - Il est possible d'enregistrer son travail en cours (disquette en haut à gauche) : à faire régulièrement pour ne rien perdre.\n",
    " - Mais surtout, il faut penser à rendre son travail (bouton en haut à droite) pour que je puisse l'évaluer (note + appréciation)."
   ],
   "metadata": {}
  },
  {
   "cell_type": "markdown",
   "source": [
    "**Consigne**\n",
    "\n",
    "Sauvegarder puis rendre ce notebook."
   ],
   "metadata": {}
  }
 ],
 "metadata": {
  "interpreter": {
   "hash": "31f2aee4e71d21fbe5cf8b01ff0e069b9275f58929596ceb00d14d90e3e16cd6"
  },
  "kernelspec": {
   "display_name": "Python 3",
   "language": "python",
   "name": "python3"
  },
  "language_info": {
   "codemirror_mode": {
    "name": "ipython",
    "version": 3
   },
   "file_extension": ".py",
   "mimetype": "text/x-python",
   "name": "python",
   "nbconvert_exporter": "python",
   "pygments_lexer": "ipython3",
   "version": "3.9.2"
  }
 },
 "nbformat": 4,
 "nbformat_minor": 2
}